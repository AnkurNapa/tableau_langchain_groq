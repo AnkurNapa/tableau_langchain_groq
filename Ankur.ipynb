{
 "cells": [
  {
   "cell_type": "code",
   "execution_count": 10,
   "id": "7597c484-7b08-4f14-a5cc-f057c0acf60d",
   "metadata": {},
   "outputs": [
    {
     "name": "stdout",
     "output_type": "stream",
     "text": [
      "Requirement already satisfied: requests in c:\\users\\napaa\\tableau-ai-env\\lib\\site-packages (2.32.3)\n",
      "Requirement already satisfied: pyjwt in c:\\users\\napaa\\tableau-ai-env\\lib\\site-packages (2.10.1)\n",
      "Requirement already satisfied: python-dotenv in c:\\users\\napaa\\tableau-ai-env\\lib\\site-packages (1.1.0)\n",
      "Requirement already satisfied: charset-normalizer<4,>=2 in c:\\users\\napaa\\tableau-ai-env\\lib\\site-packages (from requests) (3.4.2)\n",
      "Requirement already satisfied: idna<4,>=2.5 in c:\\users\\napaa\\tableau-ai-env\\lib\\site-packages (from requests) (3.10)\n",
      "Requirement already satisfied: urllib3<3,>=1.21.1 in c:\\users\\napaa\\tableau-ai-env\\lib\\site-packages (from requests) (2.4.0)\n",
      "Requirement already satisfied: certifi>=2017.4.17 in c:\\users\\napaa\\tableau-ai-env\\lib\\site-packages (from requests) (2025.4.26)\n",
      "Note: you may need to restart the kernel to use updated packages.\n"
     ]
    }
   ],
   "source": [
    "# Install required packages (run once)\n",
    "%pip install requests pyjwt python-dotenv --upgrade"
   ]
  },
  {
   "cell_type": "code",
   "execution_count": 1,
   "id": "cb70662b-1b5c-4973-be8c-d921730847d3",
   "metadata": {},
   "outputs": [],
   "source": [
    "import os\n",
    "import requests\n",
    "import jwt\n",
    "import uuid\n",
    "from datetime import datetime, timedelta\n",
    "from dotenv import load_dotenv\n",
    "import json"
   ]
  },
  {
   "cell_type": "code",
   "execution_count": 2,
   "id": "658defb8-867a-4cce-ac80-0c598ac122c2",
   "metadata": {},
   "outputs": [
    {
     "name": "stdout",
     "output_type": "stream",
     "text": [
      "=== Environment Variables Check ===\n",
      "TABLEAU_DOMAIN: 'https://10ax.online.tableau.com'\n",
      "TABLEAU_SITE: 'beforeinterview'\n",
      "TABLEAU_API_VERSION: '3.21'\n",
      "TABLEAU_USER: 'napaankur@gmail.com'\n",
      "TABLEAU_JWT_CLIENT_ID: 'e355fd20-e78e-4fae-8c1a-442fa76d5a2d'\n",
      "TABLEAU_JWT_SECRET_ID: 'cf23e1ae-0e7b-4ecd-8981-2bf68259cf9c'\n",
      "TABLEAU_JWT_SECRET: ✅ Found\n",
      "DATASOURCE_LUID: '8507283'\n",
      "🔧 Fixed TABLEAU_DOMAIN: 10ax.online.tableau.com\n",
      "\n",
      "✅ All required environment variables found!\n"
     ]
    }
   ],
   "source": [
    "# Load environment variables from .env file\n",
    "load_dotenv()\n",
    "\n",
    "# Get all variables\n",
    "tableau_server = os.getenv('TABLEAU_DOMAIN')\n",
    "tableau_site = os.getenv('TABLEAU_SITE')\n",
    "tableau_jwt_client_id = os.getenv('TABLEAU_JWT_CLIENT_ID')\n",
    "tableau_jwt_secret_id = os.getenv('TABLEAU_JWT_SECRET_ID')\n",
    "tableau_jwt_secret = os.getenv('TABLEAU_JWT_SECRET')\n",
    "tableau_api_version = os.getenv('TABLEAU_API_VERSION')\n",
    "tableau_user = os.getenv('TABLEAU_USER')\n",
    "current_datasource_luid = os.getenv('DATASOURCE_LUID')\n",
    "\n",
    "print(\"=== Environment Variables Check ===\")\n",
    "print(f\"TABLEAU_DOMAIN: '{tableau_server}'\")\n",
    "print(f\"TABLEAU_SITE: '{tableau_site}'\")\n",
    "print(f\"TABLEAU_API_VERSION: '{tableau_api_version}'\")\n",
    "print(f\"TABLEAU_USER: '{tableau_user}'\")\n",
    "print(f\"TABLEAU_JWT_CLIENT_ID: '{tableau_jwt_client_id}'\")\n",
    "print(f\"TABLEAU_JWT_SECRET_ID: '{tableau_jwt_secret_id}'\")\n",
    "print(f\"TABLEAU_JWT_SECRET: {'✅ Found' if tableau_jwt_secret else '❌ Missing'}\")\n",
    "print(f\"DATASOURCE_LUID: '{current_datasource_luid}'\")\n",
    "\n",
    "# Fix domain format if needed\n",
    "if tableau_server and tableau_server.startswith('https://'):\n",
    "    tableau_server = tableau_server.replace('https://', '')\n",
    "    print(f\"🔧 Fixed TABLEAU_DOMAIN: {tableau_server}\")\n",
    "\n",
    "# Check for missing variables\n",
    "missing_vars = []\n",
    "if not tableau_server: missing_vars.append('TABLEAU_DOMAIN')\n",
    "if not tableau_site: missing_vars.append('TABLEAU_SITE')\n",
    "if not tableau_jwt_client_id: missing_vars.append('TABLEAU_JWT_CLIENT_ID')\n",
    "if not tableau_jwt_secret_id: missing_vars.append('TABLEAU_JWT_SECRET_ID')\n",
    "if not tableau_jwt_secret: missing_vars.append('TABLEAU_JWT_SECRET')\n",
    "if not tableau_api_version: missing_vars.append('TABLEAU_API_VERSION')\n",
    "if not tableau_user: missing_vars.append('TABLEAU_USER')\n",
    "\n",
    "if missing_vars:\n",
    "    print(f\"\\n❌ Missing environment variables: {', '.join(missing_vars)}\")\n",
    "    print(\"Please check your .env file!\")\n",
    "else:\n",
    "    print(\"\\n✅ All required environment variables found!\")"
   ]
  },
  {
   "cell_type": "code",
   "execution_count": 3,
   "id": "3481354c-f044-4f65-922c-291a708beb9e",
   "metadata": {},
   "outputs": [
    {
     "name": "stdout",
     "output_type": "stream",
     "text": [
      "Testing connection to: https://10ax.online.tableau.com/api/3.21/serverinfo\n",
      "✅ Server is reachable!\n"
     ]
    }
   ],
   "source": [
    "def test_server_connection():\n",
    "    \"\"\"Test basic connection to Tableau server\"\"\"\n",
    "    try:\n",
    "        test_url = f\"https://{tableau_server}/api/{tableau_api_version}/serverinfo\"\n",
    "        print(f\"Testing connection to: {test_url}\")\n",
    "        \n",
    "        response = requests.get(test_url, timeout=10)\n",
    "        \n",
    "        if response.status_code == 200:\n",
    "            print(\"✅ Server is reachable!\")\n",
    "            return True\n",
    "        else:\n",
    "            print(f\"❌ Server returned status {response.status_code}\")\n",
    "            return False\n",
    "            \n",
    "    except requests.exceptions.ConnectionError:\n",
    "        print(\"❌ Cannot connect to server - check your TABLEAU_DOMAIN\")\n",
    "        return False\n",
    "    except Exception as e:\n",
    "        print(f\"❌ Connection error: {e}\")\n",
    "        return False\n",
    "\n",
    "# Test server connection\n",
    "server_ok = test_server_connection()"
   ]
  },
  {
   "cell_type": "code",
   "execution_count": 4,
   "id": "a8e178ea-8957-4999-bf97-c7c258d62082",
   "metadata": {},
   "outputs": [
    {
     "name": "stdout",
     "output_type": "stream",
     "text": [
      "✅ JWT token created successfully!\n"
     ]
    },
    {
     "name": "stderr",
     "output_type": "stream",
     "text": [
      "C:\\Users\\napaa\\AppData\\Local\\Temp\\ipykernel_12216\\2469955053.py:6: DeprecationWarning: datetime.datetime.utcnow() is deprecated and scheduled for removal in a future version. Use timezone-aware objects to represent datetimes in UTC: datetime.datetime.now(datetime.UTC).\n",
      "  \"exp\": datetime.utcnow() + timedelta(minutes=5),\n"
     ]
    }
   ],
   "source": [
    "def create_jwt_token():\n",
    "    \"\"\"Create JWT token for authentication\"\"\"\n",
    "    try:\n",
    "        payload = {\n",
    "            \"iss\": tableau_jwt_client_id,\n",
    "            \"exp\": datetime.utcnow() + timedelta(minutes=5),\n",
    "            \"jti\": str(uuid.uuid4()),\n",
    "            \"aud\": \"tableau\", \n",
    "            \"sub\": tableau_user,\n",
    "            \"scp\": [\"tableau:datasources:read\"]\n",
    "        }\n",
    "        \n",
    "        token = jwt.encode(payload, tableau_jwt_secret, algorithm=\"HS256\")\n",
    "        print(\"✅ JWT token created successfully!\")\n",
    "        return token\n",
    "        \n",
    "    except Exception as e:\n",
    "        print(f\"❌ JWT token creation failed: {e}\")\n",
    "        return None\n",
    "\n",
    "# Create JWT token\n",
    "jwt_token = create_jwt_token()"
   ]
  },
  {
   "cell_type": "code",
   "execution_count": 5,
   "id": "ec47c92f-b388-45d8-8e8e-337d73d8d26d",
   "metadata": {},
   "outputs": [
    {
     "name": "stdout",
     "output_type": "stream",
     "text": [
      "Attempting authentication to: https://10ax.online.tableau.com/api/3.21/auth/signin\n",
      "Site: 'beforeinterview'\n",
      "User: 'napaankur@gmail.com'\n",
      "Response Status: 401\n",
      "❌ Authentication failed (401)\n",
      "   Error 10083: Check if Connected App is ENABLED\n",
      "   Response: <?xml version='1.0' encoding='UTF-8'?><tsResponse xmlns=\"http://tableau.com/api\" xmlns:xsi=\"http://www.w3.org/2001/XMLSchema-instance\" xsi:schemaLocation=\"http://tableau.com/api https://help.tableau.com/samples/en-us/rest_api/ts-api_3_21.xsd\"><error code=\"401001\"><summary>Signin Error</summary><detail>Error signing in to Tableau Server (10083)</detail></error></tsResponse>\n"
     ]
    }
   ],
   "source": [
    "def test_authentication():\n",
    "    \"\"\"Test authentication with Tableau server\"\"\"\n",
    "    if not jwt_token:\n",
    "        print(\"❌ No JWT token available\")\n",
    "        return None\n",
    "        \n",
    "    try:\n",
    "        auth_url = f\"https://{tableau_server}/api/{tableau_api_version}/auth/signin\"\n",
    "        \n",
    "        signin_payload = {\n",
    "            \"credentials\": {\n",
    "                \"jwt\": jwt_token,\n",
    "                \"site\": {\"contentUrl\": tableau_site}\n",
    "            }\n",
    "        }\n",
    "        \n",
    "        print(f\"Attempting authentication to: {auth_url}\")\n",
    "        print(f\"Site: '{tableau_site}'\")\n",
    "        print(f\"User: '{tableau_user}'\")\n",
    "        \n",
    "        response = requests.post(auth_url, json=signin_payload)\n",
    "        \n",
    "        print(f\"Response Status: {response.status_code}\")\n",
    "        \n",
    "        if response.status_code == 200:\n",
    "            auth_token = response.json()['credentials']['token']\n",
    "            print(\"✅ Authentication successful!\")\n",
    "            return auth_token\n",
    "        elif response.status_code == 401:\n",
    "            print(\"❌ Authentication failed (401)\")\n",
    "            if \"10083\" in response.text:\n",
    "                print(\"   Error 10083: Check if Connected App is ENABLED\")\n",
    "            elif \"10001\" in response.text:\n",
    "                print(\"   Error 10001: Connected App configuration issue\")\n",
    "            print(f\"   Response: {response.text}\")\n",
    "            return None\n",
    "        else:\n",
    "            print(f\"❌ Unexpected response: {response.status_code}\")\n",
    "            print(f\"   Response: {response.text}\")\n",
    "            return None\n",
    "            \n",
    "    except Exception as e:\n",
    "        print(f\"❌ Authentication error: {e}\")\n",
    "        return None\n",
    "\n",
    "# Test authentication\n",
    "auth_token = test_authentication()"
   ]
  },
  {
   "cell_type": "code",
   "execution_count": 6,
   "id": "d0233ebf-ee42-41f0-afb1-6f14d071d079",
   "metadata": {},
   "outputs": [
    {
     "name": "stdout",
     "output_type": "stream",
     "text": [
      "❌ No authentication token available\n"
     ]
    }
   ],
   "source": [
    "def list_all_datasources():\n",
    "    \"\"\"List all available data sources\"\"\"\n",
    "    if not auth_token:\n",
    "        print(\"❌ No authentication token available\")\n",
    "        return None\n",
    "    \n",
    "    try:\n",
    "        datasources_url = f\"https://{tableau_server}/api/{tableau_api_version}/sites/{tableau_site}/datasources\"\n",
    "        headers = {\"X-Tableau-Auth\": auth_token}\n",
    "        \n",
    "        print(f\"Fetching data sources from: {datasources_url}\")\n",
    "        response = requests.get(datasources_url, headers=headers)\n",
    "        \n",
    "        if response.status_code == 200:\n",
    "            data = response.json()\n",
    "            datasources = data['datasources']['datasource']\n",
    "            \n",
    "            print(f\"✅ Found {len(datasources)} data sources:\")\n",
    "            print(\"=\" * 80)\n",
    "            \n",
    "            for i, ds in enumerate(datasources, 1):\n",
    "                print(f\"{i:2d}. Name: {ds['name']}\")\n",
    "                print(f\"     LUID: {ds['id']}\")\n",
    "                print(f\"     Type: {ds.get('type', 'Unknown')}\")\n",
    "                print(f\"     Created: {ds.get('createdAt', 'Unknown')[:10]}\")\n",
    "                print(\"-\" * 60)\n",
    "            \n",
    "            return datasources\n",
    "        else:\n",
    "            print(f\"❌ Failed to get data sources: {response.status_code}\")\n",
    "            print(f\"Response: {response.text}\")\n",
    "            return None\n",
    "            \n",
    "    except Exception as e:\n",
    "        print(f\"❌ Error listing data sources: {e}\")\n",
    "        return None\n",
    "\n",
    "# List all data sources\n",
    "all_datasources = list_all_datasources()"
   ]
  },
  {
   "cell_type": "code",
   "execution_count": 9,
   "id": "ce748281-c05f-475a-9cd9-864dbaff68ae",
   "metadata": {},
   "outputs": [
    {
     "name": "stdout",
     "output_type": "stream",
     "text": [
      "=== JWT Token Debug ===\n",
      "JWT library version: 2.10.1\n",
      "JWT Payload:\n",
      "  iss: e355fd20-e78e-4fae-8c1a-442fa76d5a2d\n",
      "  exp: 2025-05-24 15:22:14.650595 (2025-05-24T15:22:14.650595)\n",
      "  jti: 28836614-83b1-4ea8-8741-aaefefedef52\n",
      "  aud: tableau\n",
      "  sub: napaankur@gmail.com\n",
      "  scp: ['tableau:datasources:read']\n",
      "JWT Token created successfully (length: 331)\n",
      "Token preview: eyJhbGciOiJIUzI1NiIsInR5cCI6IkpXVCJ9.eyJpc3MiOiJlM...\n"
     ]
    },
    {
     "name": "stderr",
     "output_type": "stream",
     "text": [
      "C:\\Users\\napaa\\AppData\\Local\\Temp\\ipykernel_5368\\1669450705.py:12: DeprecationWarning: datetime.datetime.utcnow() is deprecated and scheduled for removal in a future version. Use timezone-aware objects to represent datetimes in UTC: datetime.datetime.now(datetime.UTC).\n",
      "  \"exp\": datetime.utcnow() + timedelta(minutes=5),\n"
     ]
    }
   ],
   "source": [
    "def debug_jwt_creation():\n",
    "    \"\"\"Debug JWT token creation\"\"\"\n",
    "    try:\n",
    "        print(\"=== JWT Token Debug ===\")\n",
    "        \n",
    "        # Check JWT library\n",
    "        print(f\"JWT library version: {jwt.__version__}\")\n",
    "        \n",
    "        # Create payload\n",
    "        payload = {\n",
    "            \"iss\": tableau_jwt_client_id,\n",
    "            \"exp\": datetime.utcnow() + timedelta(minutes=5),\n",
    "            \"jti\": str(uuid.uuid4()),\n",
    "            \"aud\": \"tableau\",\n",
    "            \"sub\": tableau_user,\n",
    "            \"scp\": [\"tableau:datasources:read\"]\n",
    "        }\n",
    "        \n",
    "        print(\"JWT Payload:\")\n",
    "        for key, value in payload.items():\n",
    "            if key == \"exp\":\n",
    "                print(f\"  {key}: {value} ({value.isoformat()})\")\n",
    "            else:\n",
    "                print(f\"  {key}: {value}\")\n",
    "        \n",
    "        # Create token\n",
    "        token = jwt.encode(payload, tableau_jwt_secret, algorithm=\"HS256\")\n",
    "        print(f\"JWT Token created successfully (length: {len(token)})\")\n",
    "        print(f\"Token preview: {token[:50]}...\")\n",
    "        \n",
    "        return token\n",
    "        \n",
    "    except Exception as e:\n",
    "        print(f\"❌ JWT creation error: {e}\")\n",
    "        return None\n",
    "\n",
    "# Test JWT creation\n",
    "test_token = debug_jwt_creation()"
   ]
  },
  {
   "cell_type": "code",
   "execution_count": 5,
   "id": "3708c03a-3024-4b2a-8187-b0a8c2c46e15",
   "metadata": {},
   "outputs": [
    {
     "name": "stderr",
     "output_type": "stream",
     "text": [
      "C:\\Users\\napaa\\AppData\\Local\\Temp\\ipykernel_5368\\1364815202.py:9: DeprecationWarning: datetime.datetime.utcnow() is deprecated and scheduled for removal in a future version. Use timezone-aware objects to represent datetimes in UTC: datetime.datetime.now(datetime.UTC).\n",
      "  \"exp\": datetime.utcnow() + timedelta(minutes=5),  # Back to the working version\n"
     ]
    },
    {
     "name": "stdout",
     "output_type": "stream",
     "text": [
      "Attempting to connect to: https://10ax.online.tableau.com/api/3.21/auth/signin\n",
      "❌ Auth failed: 401\n",
      "Response: <?xml version='1.0' encoding='UTF-8'?><tsResponse xmlns=\"http://tableau.com/api\" xmlns:xsi=\"http://www.w3.org/2001/XMLSchema-instance\" xsi:schemaLocation=\"http://tableau.com/api https://help.tableau.com/samples/en-us/rest_api/ts-api_3_21.xsd\"><error code=\"401001\"><summary>Signin Error</summary><detail>Error signing in to Tableau Server (10083)</detail></error></tsResponse>\n",
      "Authentication failed. Check your credentials.\n"
     ]
    }
   ],
   "source": [
    "# Test authentication\n",
    "auth_token = get_auth_token()\n",
    "\n",
    "if auth_token:\n",
    "    print(f\"Auth token received: {auth_token[:20]}...\")\n",
    "else:\n",
    "    print(\"Authentication failed. Check your credentials.\")"
   ]
  },
  {
   "cell_type": "code",
   "execution_count": null,
   "id": "46a7fc97-90b3-461e-a394-bfb205eb9ea0",
   "metadata": {},
   "outputs": [],
   "source": []
  }
 ],
 "metadata": {
  "kernelspec": {
   "display_name": "Python 3 (ipykernel)",
   "language": "python",
   "name": "python3"
  },
  "language_info": {
   "codemirror_mode": {
    "name": "ipython",
    "version": 3
   },
   "file_extension": ".py",
   "mimetype": "text/x-python",
   "name": "python",
   "nbconvert_exporter": "python",
   "pygments_lexer": "ipython3",
   "version": "3.12.7"
  }
 },
 "nbformat": 4,
 "nbformat_minor": 5
}
