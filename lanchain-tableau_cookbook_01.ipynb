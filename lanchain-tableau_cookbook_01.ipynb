{
 "cells": [
  {
   "cell_type": "markdown",
   "id": "1f302499-eb05-4296-8716-950babc0f10e",
   "metadata": {},
   "source": [
    "## Chat with Tableau\n",
    "\n",
    "Tableau's [VizQL Data Service](https://help.tableau.com/current/api/vizql-data-service/en-us/index.html) (aka VDS) provides developers with programmatic access to their Tableau Published Data Sources, allowing them to extend their business semantics for any custom workload or application, including AI Agents. The simple_datasource_qa tool adds VDS to the Langchain framework. This notebook shows you how you can use it to build agents that answer analytical questions grounded on your enterprise semantic models. \n",
    "\n",
    "Follow the [tableau-langchain](https://github.com/Tab-SE/tableau_langchain) project for more tools coming soon!\n"
   ]
  },
  {
   "cell_type": "markdown",
   "id": "4d57b913-819e-4676-9f6e-3afe0a80030e",
   "metadata": {},
   "source": [
    "## Requirements\n",
    "1. python version 3.12.2 or higher\n",
    "2. A Tableau Cloud or Server environment with at least 1 published data source\n",
    "\n",
    "Get started by installing and/or importing the required packages"
   ]
  },
  {
   "cell_type": "code",
   "execution_count": 1,
   "id": "9b178e95-ffae-4f04-ad77-1fdc2ab05edf",
   "metadata": {},
   "outputs": [
    {
     "name": "stdout",
     "output_type": "stream",
     "text": [
      "Requirement already satisfied: langchain-openai in c:\\users\\napaa\\tableau-ai-env\\lib\\site-packages (0.3.17)\n",
      "Requirement already satisfied: langchain-core<1.0.0,>=0.3.59 in c:\\users\\napaa\\tableau-ai-env\\lib\\site-packages (from langchain-openai) (0.3.60)\n",
      "Requirement already satisfied: openai<2.0.0,>=1.68.2 in c:\\users\\napaa\\tableau-ai-env\\lib\\site-packages (from langchain-openai) (1.79.0)\n",
      "Requirement already satisfied: tiktoken<1,>=0.7 in c:\\users\\napaa\\tableau-ai-env\\lib\\site-packages (from langchain-openai) (0.9.0)\n",
      "Requirement already satisfied: langsmith<0.4,>=0.1.126 in c:\\users\\napaa\\tableau-ai-env\\lib\\site-packages (from langchain-core<1.0.0,>=0.3.59->langchain-openai) (0.2.11)\n",
      "Requirement already satisfied: tenacity!=8.4.0,<10.0.0,>=8.1.0 in c:\\users\\napaa\\tableau-ai-env\\lib\\site-packages (from langchain-core<1.0.0,>=0.3.59->langchain-openai) (9.1.2)\n",
      "Requirement already satisfied: jsonpatch<2.0,>=1.33 in c:\\users\\napaa\\tableau-ai-env\\lib\\site-packages (from langchain-core<1.0.0,>=0.3.59->langchain-openai) (1.33)\n",
      "Requirement already satisfied: PyYAML>=5.3 in c:\\users\\napaa\\tableau-ai-env\\lib\\site-packages (from langchain-core<1.0.0,>=0.3.59->langchain-openai) (6.0.2)\n",
      "Requirement already satisfied: packaging<25,>=23.2 in c:\\users\\napaa\\tableau-ai-env\\lib\\site-packages (from langchain-core<1.0.0,>=0.3.59->langchain-openai) (24.2)\n",
      "Requirement already satisfied: typing-extensions>=4.7 in c:\\users\\napaa\\tableau-ai-env\\lib\\site-packages (from langchain-core<1.0.0,>=0.3.59->langchain-openai) (4.13.2)\n",
      "Requirement already satisfied: pydantic>=2.7.4 in c:\\users\\napaa\\tableau-ai-env\\lib\\site-packages (from langchain-core<1.0.0,>=0.3.59->langchain-openai) (2.11.4)\n",
      "Requirement already satisfied: jsonpointer>=1.9 in c:\\users\\napaa\\tableau-ai-env\\lib\\site-packages (from jsonpatch<2.0,>=1.33->langchain-core<1.0.0,>=0.3.59->langchain-openai) (3.0.0)\n",
      "Requirement already satisfied: httpx<1,>=0.23.0 in c:\\users\\napaa\\tableau-ai-env\\lib\\site-packages (from langsmith<0.4,>=0.1.126->langchain-core<1.0.0,>=0.3.59->langchain-openai) (0.28.1)\n",
      "Requirement already satisfied: orjson<4.0.0,>=3.9.14 in c:\\users\\napaa\\tableau-ai-env\\lib\\site-packages (from langsmith<0.4,>=0.1.126->langchain-core<1.0.0,>=0.3.59->langchain-openai) (3.10.18)\n",
      "Requirement already satisfied: requests<3,>=2 in c:\\users\\napaa\\tableau-ai-env\\lib\\site-packages (from langsmith<0.4,>=0.1.126->langchain-core<1.0.0,>=0.3.59->langchain-openai) (2.32.3)\n",
      "Requirement already satisfied: requests-toolbelt<2.0.0,>=1.0.0 in c:\\users\\napaa\\tableau-ai-env\\lib\\site-packages (from langsmith<0.4,>=0.1.126->langchain-core<1.0.0,>=0.3.59->langchain-openai) (1.0.0)\n",
      "Requirement already satisfied: anyio in c:\\users\\napaa\\tableau-ai-env\\lib\\site-packages (from httpx<1,>=0.23.0->langsmith<0.4,>=0.1.126->langchain-core<1.0.0,>=0.3.59->langchain-openai) (4.9.0)\n",
      "Requirement already satisfied: certifi in c:\\users\\napaa\\tableau-ai-env\\lib\\site-packages (from httpx<1,>=0.23.0->langsmith<0.4,>=0.1.126->langchain-core<1.0.0,>=0.3.59->langchain-openai) (2025.4.26)\n",
      "Requirement already satisfied: httpcore==1.* in c:\\users\\napaa\\tableau-ai-env\\lib\\site-packages (from httpx<1,>=0.23.0->langsmith<0.4,>=0.1.126->langchain-core<1.0.0,>=0.3.59->langchain-openai) (1.0.9)\n",
      "Requirement already satisfied: idna in c:\\users\\napaa\\tableau-ai-env\\lib\\site-packages (from httpx<1,>=0.23.0->langsmith<0.4,>=0.1.126->langchain-core<1.0.0,>=0.3.59->langchain-openai) (3.10)\n",
      "Requirement already satisfied: h11>=0.16 in c:\\users\\napaa\\tableau-ai-env\\lib\\site-packages (from httpcore==1.*->httpx<1,>=0.23.0->langsmith<0.4,>=0.1.126->langchain-core<1.0.0,>=0.3.59->langchain-openai) (0.16.0)\n",
      "Requirement already satisfied: distro<2,>=1.7.0 in c:\\users\\napaa\\tableau-ai-env\\lib\\site-packages (from openai<2.0.0,>=1.68.2->langchain-openai) (1.9.0)\n",
      "Requirement already satisfied: jiter<1,>=0.4.0 in c:\\users\\napaa\\tableau-ai-env\\lib\\site-packages (from openai<2.0.0,>=1.68.2->langchain-openai) (0.10.0)\n",
      "Requirement already satisfied: sniffio in c:\\users\\napaa\\tableau-ai-env\\lib\\site-packages (from openai<2.0.0,>=1.68.2->langchain-openai) (1.3.1)\n",
      "Requirement already satisfied: tqdm>4 in c:\\users\\napaa\\tableau-ai-env\\lib\\site-packages (from openai<2.0.0,>=1.68.2->langchain-openai) (4.67.1)\n",
      "Requirement already satisfied: annotated-types>=0.6.0 in c:\\users\\napaa\\tableau-ai-env\\lib\\site-packages (from pydantic>=2.7.4->langchain-core<1.0.0,>=0.3.59->langchain-openai) (0.7.0)\n",
      "Requirement already satisfied: pydantic-core==2.33.2 in c:\\users\\napaa\\tableau-ai-env\\lib\\site-packages (from pydantic>=2.7.4->langchain-core<1.0.0,>=0.3.59->langchain-openai) (2.33.2)\n",
      "Requirement already satisfied: typing-inspection>=0.4.0 in c:\\users\\napaa\\tableau-ai-env\\lib\\site-packages (from pydantic>=2.7.4->langchain-core<1.0.0,>=0.3.59->langchain-openai) (0.4.0)\n",
      "Requirement already satisfied: charset-normalizer<4,>=2 in c:\\users\\napaa\\tableau-ai-env\\lib\\site-packages (from requests<3,>=2->langsmith<0.4,>=0.1.126->langchain-core<1.0.0,>=0.3.59->langchain-openai) (3.4.2)\n",
      "Requirement already satisfied: urllib3<3,>=1.21.1 in c:\\users\\napaa\\tableau-ai-env\\lib\\site-packages (from requests<3,>=2->langsmith<0.4,>=0.1.126->langchain-core<1.0.0,>=0.3.59->langchain-openai) (2.4.0)\n",
      "Requirement already satisfied: regex>=2022.1.18 in c:\\users\\napaa\\tableau-ai-env\\lib\\site-packages (from tiktoken<1,>=0.7->langchain-openai) (2024.11.6)\n",
      "Requirement already satisfied: colorama in c:\\users\\napaa\\tableau-ai-env\\lib\\site-packages (from tqdm>4->openai<2.0.0,>=1.68.2->langchain-openai) (0.4.6)\n",
      "Note: you may need to restart the kernel to use updated packages.\n"
     ]
    }
   ],
   "source": [
    "pip install langchain-openai"
   ]
  },
  {
   "cell_type": "code",
   "execution_count": 2,
   "id": "8605e87a-2253-4c89-992a-ecdbec955ef6",
   "metadata": {},
   "outputs": [
    {
     "name": "stdout",
     "output_type": "stream",
     "text": [
      "Requirement already satisfied: langgraph in c:\\users\\napaa\\tableau-ai-env\\lib\\site-packages (0.4.5)\n",
      "Requirement already satisfied: langchain-core>=0.1 in c:\\users\\napaa\\tableau-ai-env\\lib\\site-packages (from langgraph) (0.3.60)\n",
      "Requirement already satisfied: langgraph-checkpoint<3.0.0,>=2.0.26 in c:\\users\\napaa\\tableau-ai-env\\lib\\site-packages (from langgraph) (2.0.26)\n",
      "Requirement already satisfied: langgraph-prebuilt>=0.1.8 in c:\\users\\napaa\\tableau-ai-env\\lib\\site-packages (from langgraph) (0.1.8)\n",
      "Requirement already satisfied: langgraph-sdk>=0.1.42 in c:\\users\\napaa\\tableau-ai-env\\lib\\site-packages (from langgraph) (0.1.69)\n",
      "Requirement already satisfied: pydantic>=2.7.4 in c:\\users\\napaa\\tableau-ai-env\\lib\\site-packages (from langgraph) (2.11.4)\n",
      "Requirement already satisfied: xxhash<4.0.0,>=3.5.0 in c:\\users\\napaa\\tableau-ai-env\\lib\\site-packages (from langgraph) (3.5.0)\n",
      "Requirement already satisfied: ormsgpack<2.0.0,>=1.8.0 in c:\\users\\napaa\\tableau-ai-env\\lib\\site-packages (from langgraph-checkpoint<3.0.0,>=2.0.26->langgraph) (1.9.1)\n",
      "Requirement already satisfied: langsmith<0.4,>=0.1.126 in c:\\users\\napaa\\tableau-ai-env\\lib\\site-packages (from langchain-core>=0.1->langgraph) (0.2.11)\n",
      "Requirement already satisfied: tenacity!=8.4.0,<10.0.0,>=8.1.0 in c:\\users\\napaa\\tableau-ai-env\\lib\\site-packages (from langchain-core>=0.1->langgraph) (9.1.2)\n",
      "Requirement already satisfied: jsonpatch<2.0,>=1.33 in c:\\users\\napaa\\tableau-ai-env\\lib\\site-packages (from langchain-core>=0.1->langgraph) (1.33)\n",
      "Requirement already satisfied: PyYAML>=5.3 in c:\\users\\napaa\\tableau-ai-env\\lib\\site-packages (from langchain-core>=0.1->langgraph) (6.0.2)\n",
      "Requirement already satisfied: packaging<25,>=23.2 in c:\\users\\napaa\\tableau-ai-env\\lib\\site-packages (from langchain-core>=0.1->langgraph) (24.2)\n",
      "Requirement already satisfied: typing-extensions>=4.7 in c:\\users\\napaa\\tableau-ai-env\\lib\\site-packages (from langchain-core>=0.1->langgraph) (4.13.2)\n",
      "Requirement already satisfied: jsonpointer>=1.9 in c:\\users\\napaa\\tableau-ai-env\\lib\\site-packages (from jsonpatch<2.0,>=1.33->langchain-core>=0.1->langgraph) (3.0.0)\n",
      "Requirement already satisfied: httpx<1,>=0.23.0 in c:\\users\\napaa\\tableau-ai-env\\lib\\site-packages (from langsmith<0.4,>=0.1.126->langchain-core>=0.1->langgraph) (0.28.1)\n",
      "Requirement already satisfied: orjson<4.0.0,>=3.9.14 in c:\\users\\napaa\\tableau-ai-env\\lib\\site-packages (from langsmith<0.4,>=0.1.126->langchain-core>=0.1->langgraph) (3.10.18)\n",
      "Requirement already satisfied: requests<3,>=2 in c:\\users\\napaa\\tableau-ai-env\\lib\\site-packages (from langsmith<0.4,>=0.1.126->langchain-core>=0.1->langgraph) (2.32.3)\n",
      "Requirement already satisfied: requests-toolbelt<2.0.0,>=1.0.0 in c:\\users\\napaa\\tableau-ai-env\\lib\\site-packages (from langsmith<0.4,>=0.1.126->langchain-core>=0.1->langgraph) (1.0.0)\n",
      "Requirement already satisfied: anyio in c:\\users\\napaa\\tableau-ai-env\\lib\\site-packages (from httpx<1,>=0.23.0->langsmith<0.4,>=0.1.126->langchain-core>=0.1->langgraph) (4.9.0)\n",
      "Requirement already satisfied: certifi in c:\\users\\napaa\\tableau-ai-env\\lib\\site-packages (from httpx<1,>=0.23.0->langsmith<0.4,>=0.1.126->langchain-core>=0.1->langgraph) (2025.4.26)\n",
      "Requirement already satisfied: httpcore==1.* in c:\\users\\napaa\\tableau-ai-env\\lib\\site-packages (from httpx<1,>=0.23.0->langsmith<0.4,>=0.1.126->langchain-core>=0.1->langgraph) (1.0.9)\n",
      "Requirement already satisfied: idna in c:\\users\\napaa\\tableau-ai-env\\lib\\site-packages (from httpx<1,>=0.23.0->langsmith<0.4,>=0.1.126->langchain-core>=0.1->langgraph) (3.10)\n",
      "Requirement already satisfied: h11>=0.16 in c:\\users\\napaa\\tableau-ai-env\\lib\\site-packages (from httpcore==1.*->httpx<1,>=0.23.0->langsmith<0.4,>=0.1.126->langchain-core>=0.1->langgraph) (0.16.0)\n",
      "Requirement already satisfied: annotated-types>=0.6.0 in c:\\users\\napaa\\tableau-ai-env\\lib\\site-packages (from pydantic>=2.7.4->langgraph) (0.7.0)\n",
      "Requirement already satisfied: pydantic-core==2.33.2 in c:\\users\\napaa\\tableau-ai-env\\lib\\site-packages (from pydantic>=2.7.4->langgraph) (2.33.2)\n",
      "Requirement already satisfied: typing-inspection>=0.4.0 in c:\\users\\napaa\\tableau-ai-env\\lib\\site-packages (from pydantic>=2.7.4->langgraph) (0.4.0)\n",
      "Requirement already satisfied: charset-normalizer<4,>=2 in c:\\users\\napaa\\tableau-ai-env\\lib\\site-packages (from requests<3,>=2->langsmith<0.4,>=0.1.126->langchain-core>=0.1->langgraph) (3.4.2)\n",
      "Requirement already satisfied: urllib3<3,>=1.21.1 in c:\\users\\napaa\\tableau-ai-env\\lib\\site-packages (from requests<3,>=2->langsmith<0.4,>=0.1.126->langchain-core>=0.1->langgraph) (2.4.0)\n",
      "Requirement already satisfied: sniffio>=1.1 in c:\\users\\napaa\\tableau-ai-env\\lib\\site-packages (from anyio->httpx<1,>=0.23.0->langsmith<0.4,>=0.1.126->langchain-core>=0.1->langgraph) (1.3.1)\n",
      "Note: you may need to restart the kernel to use updated packages.\n"
     ]
    }
   ],
   "source": [
    "pip install langgraph"
   ]
  },
  {
   "cell_type": "code",
   "execution_count": 3,
   "id": "c13dca76",
   "metadata": {},
   "outputs": [
    {
     "name": "stdout",
     "output_type": "stream",
     "text": [
      "Requirement already satisfied: langchain-tableau in c:\\users\\napaa\\tableau-ai-env\\lib\\site-packages (0.4.39)\n",
      "Requirement already satisfied: aiohttp in c:\\users\\napaa\\tableau-ai-env\\lib\\site-packages (from langchain-tableau) (3.10.11)\n",
      "Requirement already satisfied: langchain in c:\\users\\napaa\\tableau-ai-env\\lib\\site-packages (from langchain-tableau) (0.3.25)\n",
      "Requirement already satisfied: langchain-core in c:\\users\\napaa\\tableau-ai-env\\lib\\site-packages (from langchain-tableau) (0.3.60)\n",
      "Requirement already satisfied: langchain-openai in c:\\users\\napaa\\tableau-ai-env\\lib\\site-packages (from langchain-tableau) (0.3.17)\n",
      "Requirement already satisfied: langgraph in c:\\users\\napaa\\tableau-ai-env\\lib\\site-packages (from langchain-tableau) (0.4.5)\n",
      "Requirement already satisfied: pydantic in c:\\users\\napaa\\tableau-ai-env\\lib\\site-packages (from langchain-tableau) (2.11.4)\n",
      "Requirement already satisfied: pyjwt in c:\\users\\napaa\\tableau-ai-env\\lib\\site-packages (from langchain-tableau) (2.10.1)\n",
      "Requirement already satisfied: python-dotenv in c:\\users\\napaa\\tableau-ai-env\\lib\\site-packages (from langchain-tableau) (1.1.0)\n",
      "Requirement already satisfied: requests in c:\\users\\napaa\\tableau-ai-env\\lib\\site-packages (from langchain-tableau) (2.32.3)\n",
      "Requirement already satisfied: aiohappyeyeballs>=2.3.0 in c:\\users\\napaa\\tableau-ai-env\\lib\\site-packages (from aiohttp->langchain-tableau) (2.6.1)\n",
      "Requirement already satisfied: aiosignal>=1.1.2 in c:\\users\\napaa\\tableau-ai-env\\lib\\site-packages (from aiohttp->langchain-tableau) (1.3.2)\n",
      "Requirement already satisfied: attrs>=17.3.0 in c:\\users\\napaa\\tableau-ai-env\\lib\\site-packages (from aiohttp->langchain-tableau) (25.3.0)\n",
      "Requirement already satisfied: frozenlist>=1.1.1 in c:\\users\\napaa\\tableau-ai-env\\lib\\site-packages (from aiohttp->langchain-tableau) (1.6.0)\n",
      "Requirement already satisfied: multidict<7.0,>=4.5 in c:\\users\\napaa\\tableau-ai-env\\lib\\site-packages (from aiohttp->langchain-tableau) (6.4.4)\n",
      "Requirement already satisfied: yarl<2.0,>=1.12.0 in c:\\users\\napaa\\tableau-ai-env\\lib\\site-packages (from aiohttp->langchain-tableau) (1.20.0)\n",
      "Requirement already satisfied: idna>=2.0 in c:\\users\\napaa\\tableau-ai-env\\lib\\site-packages (from yarl<2.0,>=1.12.0->aiohttp->langchain-tableau) (3.10)\n",
      "Requirement already satisfied: propcache>=0.2.1 in c:\\users\\napaa\\tableau-ai-env\\lib\\site-packages (from yarl<2.0,>=1.12.0->aiohttp->langchain-tableau) (0.3.1)\n",
      "Requirement already satisfied: langchain-text-splitters<1.0.0,>=0.3.8 in c:\\users\\napaa\\tableau-ai-env\\lib\\site-packages (from langchain->langchain-tableau) (0.3.8)\n",
      "Requirement already satisfied: langsmith<0.4,>=0.1.17 in c:\\users\\napaa\\tableau-ai-env\\lib\\site-packages (from langchain->langchain-tableau) (0.2.11)\n",
      "Requirement already satisfied: SQLAlchemy<3,>=1.4 in c:\\users\\napaa\\tableau-ai-env\\lib\\site-packages (from langchain->langchain-tableau) (2.0.41)\n",
      "Requirement already satisfied: PyYAML>=5.3 in c:\\users\\napaa\\tableau-ai-env\\lib\\site-packages (from langchain->langchain-tableau) (6.0.2)\n",
      "Requirement already satisfied: tenacity!=8.4.0,<10.0.0,>=8.1.0 in c:\\users\\napaa\\tableau-ai-env\\lib\\site-packages (from langchain-core->langchain-tableau) (9.1.2)\n",
      "Requirement already satisfied: jsonpatch<2.0,>=1.33 in c:\\users\\napaa\\tableau-ai-env\\lib\\site-packages (from langchain-core->langchain-tableau) (1.33)\n",
      "Requirement already satisfied: packaging<25,>=23.2 in c:\\users\\napaa\\tableau-ai-env\\lib\\site-packages (from langchain-core->langchain-tableau) (24.2)\n",
      "Requirement already satisfied: typing-extensions>=4.7 in c:\\users\\napaa\\tableau-ai-env\\lib\\site-packages (from langchain-core->langchain-tableau) (4.13.2)\n",
      "Requirement already satisfied: jsonpointer>=1.9 in c:\\users\\napaa\\tableau-ai-env\\lib\\site-packages (from jsonpatch<2.0,>=1.33->langchain-core->langchain-tableau) (3.0.0)\n",
      "Requirement already satisfied: httpx<1,>=0.23.0 in c:\\users\\napaa\\tableau-ai-env\\lib\\site-packages (from langsmith<0.4,>=0.1.17->langchain->langchain-tableau) (0.28.1)\n",
      "Requirement already satisfied: orjson<4.0.0,>=3.9.14 in c:\\users\\napaa\\tableau-ai-env\\lib\\site-packages (from langsmith<0.4,>=0.1.17->langchain->langchain-tableau) (3.10.18)\n",
      "Requirement already satisfied: requests-toolbelt<2.0.0,>=1.0.0 in c:\\users\\napaa\\tableau-ai-env\\lib\\site-packages (from langsmith<0.4,>=0.1.17->langchain->langchain-tableau) (1.0.0)\n",
      "Requirement already satisfied: anyio in c:\\users\\napaa\\tableau-ai-env\\lib\\site-packages (from httpx<1,>=0.23.0->langsmith<0.4,>=0.1.17->langchain->langchain-tableau) (4.9.0)\n",
      "Requirement already satisfied: certifi in c:\\users\\napaa\\tableau-ai-env\\lib\\site-packages (from httpx<1,>=0.23.0->langsmith<0.4,>=0.1.17->langchain->langchain-tableau) (2025.4.26)\n",
      "Requirement already satisfied: httpcore==1.* in c:\\users\\napaa\\tableau-ai-env\\lib\\site-packages (from httpx<1,>=0.23.0->langsmith<0.4,>=0.1.17->langchain->langchain-tableau) (1.0.9)\n",
      "Requirement already satisfied: h11>=0.16 in c:\\users\\napaa\\tableau-ai-env\\lib\\site-packages (from httpcore==1.*->httpx<1,>=0.23.0->langsmith<0.4,>=0.1.17->langchain->langchain-tableau) (0.16.0)\n",
      "Requirement already satisfied: annotated-types>=0.6.0 in c:\\users\\napaa\\tableau-ai-env\\lib\\site-packages (from pydantic->langchain-tableau) (0.7.0)\n",
      "Requirement already satisfied: pydantic-core==2.33.2 in c:\\users\\napaa\\tableau-ai-env\\lib\\site-packages (from pydantic->langchain-tableau) (2.33.2)\n",
      "Requirement already satisfied: typing-inspection>=0.4.0 in c:\\users\\napaa\\tableau-ai-env\\lib\\site-packages (from pydantic->langchain-tableau) (0.4.0)\n",
      "Requirement already satisfied: charset-normalizer<4,>=2 in c:\\users\\napaa\\tableau-ai-env\\lib\\site-packages (from requests->langchain-tableau) (3.4.2)\n",
      "Requirement already satisfied: urllib3<3,>=1.21.1 in c:\\users\\napaa\\tableau-ai-env\\lib\\site-packages (from requests->langchain-tableau) (2.4.0)\n",
      "Requirement already satisfied: greenlet>=1 in c:\\users\\napaa\\tableau-ai-env\\lib\\site-packages (from SQLAlchemy<3,>=1.4->langchain->langchain-tableau) (3.2.2)\n",
      "Requirement already satisfied: sniffio>=1.1 in c:\\users\\napaa\\tableau-ai-env\\lib\\site-packages (from anyio->httpx<1,>=0.23.0->langsmith<0.4,>=0.1.17->langchain->langchain-tableau) (1.3.1)\n",
      "Requirement already satisfied: openai<2.0.0,>=1.68.2 in c:\\users\\napaa\\tableau-ai-env\\lib\\site-packages (from langchain-openai->langchain-tableau) (1.79.0)\n",
      "Requirement already satisfied: tiktoken<1,>=0.7 in c:\\users\\napaa\\tableau-ai-env\\lib\\site-packages (from langchain-openai->langchain-tableau) (0.9.0)\n",
      "Requirement already satisfied: distro<2,>=1.7.0 in c:\\users\\napaa\\tableau-ai-env\\lib\\site-packages (from openai<2.0.0,>=1.68.2->langchain-openai->langchain-tableau) (1.9.0)\n",
      "Requirement already satisfied: jiter<1,>=0.4.0 in c:\\users\\napaa\\tableau-ai-env\\lib\\site-packages (from openai<2.0.0,>=1.68.2->langchain-openai->langchain-tableau) (0.10.0)\n",
      "Requirement already satisfied: tqdm>4 in c:\\users\\napaa\\tableau-ai-env\\lib\\site-packages (from openai<2.0.0,>=1.68.2->langchain-openai->langchain-tableau) (4.67.1)\n",
      "Requirement already satisfied: regex>=2022.1.18 in c:\\users\\napaa\\tableau-ai-env\\lib\\site-packages (from tiktoken<1,>=0.7->langchain-openai->langchain-tableau) (2024.11.6)\n",
      "Requirement already satisfied: colorama in c:\\users\\napaa\\tableau-ai-env\\lib\\site-packages (from tqdm>4->openai<2.0.0,>=1.68.2->langchain-openai->langchain-tableau) (0.4.6)\n",
      "Requirement already satisfied: langgraph-checkpoint<3.0.0,>=2.0.26 in c:\\users\\napaa\\tableau-ai-env\\lib\\site-packages (from langgraph->langchain-tableau) (2.0.26)\n",
      "Requirement already satisfied: langgraph-prebuilt>=0.1.8 in c:\\users\\napaa\\tableau-ai-env\\lib\\site-packages (from langgraph->langchain-tableau) (0.1.8)\n",
      "Requirement already satisfied: langgraph-sdk>=0.1.42 in c:\\users\\napaa\\tableau-ai-env\\lib\\site-packages (from langgraph->langchain-tableau) (0.1.69)\n",
      "Requirement already satisfied: xxhash<4.0.0,>=3.5.0 in c:\\users\\napaa\\tableau-ai-env\\lib\\site-packages (from langgraph->langchain-tableau) (3.5.0)\n",
      "Requirement already satisfied: ormsgpack<2.0.0,>=1.8.0 in c:\\users\\napaa\\tableau-ai-env\\lib\\site-packages (from langgraph-checkpoint<3.0.0,>=2.0.26->langgraph->langchain-tableau) (1.9.1)\n",
      "Note: you may need to restart the kernel to use updated packages.\n"
     ]
    }
   ],
   "source": [
    "pip install langchain-tableau --upgrade"
   ]
  },
  {
   "cell_type": "markdown",
   "id": "bbaa05f4",
   "metadata": {},
   "source": [
    "Note you may need to restart your kernal to use updated packages"
   ]
  },
  {
   "cell_type": "markdown",
   "id": "e0b74b8f-67a3-40f4-af32-498057e427b9",
   "metadata": {},
   "source": [
    "## Overview\n",
    "The initialize_simple_datasource_qa initializes the Langgraph tool called [simple_datasource_qa](https://github.com/Tab-SE/tableau_langchain/blob/3ff9047414479cd55d797c18a78f834d57860761/pip_package/langchain_tableau/tools/simple_datasource_qa.py#L101), which can be used for analytical questions and answers on a Tableau Data Source.\n",
    "\n",
    "This initializer function:\n",
    "1. Authenticates to Tableau using Tableau's connected-app framework for JWT-based authentication. All the required variables must defined at runtime or as environment variables.\n",
    "2. Asynchronously queries for the field metadata of the target datasource specified in the datasource_luid variable\n",
    "3. Grounds on the metadata of the target datasource to transform natural language questions into the json-formatted query payload required to make VDS /query-datasource requests \n",
    "4. Executes a POST request to VDS\n",
    "5. Formats and returns the results in a structured response"
   ]
  },
  {
   "cell_type": "code",
   "execution_count": 6,
   "id": "310d21b3",
   "metadata": {},
   "outputs": [],
   "source": [
    "#langchain and langgraph package imports\n",
    "from langchain_openai import ChatOpenAI\n",
    "from langchain.agents import initialize_agent, AgentType\n",
    "from langchain_core.messages import AIMessage, HumanMessage, SystemMessage\n",
    "from langgraph.prebuilt import create_react_agent\n",
    "\n",
    "#langchain_tableau imports\n",
    "from langchain_tableau.tools.simple_datasource_qa import initialize_simple_datasource_qa"
   ]
  },
  {
   "cell_type": "markdown",
   "id": "596d6718-f2e1-44bb-b614-65447862661c",
   "metadata": {},
   "source": [
    "## Authentication Variables\n",
    "You can declare your environment variables explicitly, as shown in several cases in this cookbook. However, ff these parameters are not provided, the simple_datasource_qa tool will attempt to automatically read them from environment variables.\n",
    "\n",
    "For the Data Source that you choose, make sure you've updated the VizqlDataApiAccess permission in Tableau to allow the VDS API to access that Data Source via REST. More info [here](https://help.tableau.com/current/server/en-us/permissions_capabilities.htm#data-sources\n",
    "). "
   ]
  },
  {
   "cell_type": "code",
   "execution_count": 7,
   "id": "ccfb4159-34ac-4816-a8f0-795c5442c0b2",
   "metadata": {},
   "outputs": [],
   "source": [
    "import os\n",
    "from dotenv import load_dotenv\n",
    "load_dotenv()\n",
    "\n",
    "tableau_server = os.getenv('TABLEAU_DOMAIN') #replace with your Tableau server name\n",
    "tableau_site = os.getenv('TABLEAU_SITE') #replace with your Tableau site\n",
    "tableau_jwt_client_id = os.getenv('TABLEAU_JWT_CLIENT_ID') #a JWT client ID (obtained through Tableau's admin UI)\n",
    "tableau_jwt_secret_id = os.getenv('TABLEAU_JWT_SECRET_ID') #a JWT secret ID (obtained through Tableau's admin UI)\n",
    "tableau_jwt_secret = os.getenv('TABLEAU_JWT_SECRET') #a JWT secret ID (obtained through Tableau's admin UI)\n",
    "tableau_api_version = '3.21' #the current Tableau REST API Version\n",
    "tableau_user = os.getenv('TABLEAU_USER') #replace with the username querying the target Tableau Data Source\n",
    "\n",
    "# For this cookbook we are connecting to the Superstore dataset that comes by default with every Tableau server\n",
    "datasource_luid = os.getenv('DATASOURCE_LUID') #the target data source for this Tool\n",
    "\n",
    "# Add variables to control LLM models for the Agent and Tools\n",
    "os.getenv(\"OPENAI_API_KEY\") #set an your model API key as an environment variable\n",
    "tooling_llm_model = 'gpt-4o'"
   ]
  },
  {
   "cell_type": "markdown",
   "id": "39ae3703-d271-44aa-8f3b-05ddadacc59d",
   "metadata": {},
   "source": [
    "## Langchain Example\n",
    "First, we'll initlialize the LLM of our choice. Next, we initialize our tool for chatting with tableau data sources and store it in a variable called analyze_datasource. Finally, we define an agent using Langchain legacy initialize_agent constructor and invoke it with a query related to the target data source. "
   ]
  },
  {
   "cell_type": "code",
   "execution_count": 9,
   "id": "35376fe7-09ae-4a78-ab9b-ec2e652ffbca",
   "metadata": {},
   "outputs": [
    {
     "ename": "IndexError",
     "evalue": "list index out of range",
     "output_type": "error",
     "traceback": [
      "\u001b[31m---------------------------------------------------------------------------\u001b[39m",
      "\u001b[31mIndexError\u001b[39m                                Traceback (most recent call last)",
      "\u001b[36mCell\u001b[39m\u001b[36m \u001b[39m\u001b[32mIn[9]\u001b[39m\u001b[32m, line 28\u001b[39m\n\u001b[32m     21\u001b[39m tableauHeadlessAgent = initialize_agent(\n\u001b[32m     22\u001b[39m     tools,\n\u001b[32m     23\u001b[39m     llm,\n\u001b[32m     24\u001b[39m     agent=AgentType.OPENAI_FUNCTIONS, \u001b[38;5;66;03m# Use OpenAI's function calling\u001b[39;00m\n\u001b[32m     25\u001b[39m     verbose = \u001b[38;5;28;01mFalse\u001b[39;00m)\n\u001b[32m     27\u001b[39m \u001b[38;5;66;03m# Run the agent\u001b[39;00m\n\u001b[32m---> \u001b[39m\u001b[32m28\u001b[39m response = \u001b[43mtableauHeadlessAgent\u001b[49m\u001b[43m.\u001b[49m\u001b[43minvoke\u001b[49m\u001b[43m(\u001b[49m\u001b[33;43m\"\u001b[39;49m\u001b[33;43mwhat are sales and profits for each product sub category?\u001b[39;49m\u001b[33;43m\"\u001b[39;49m\u001b[43m)\u001b[49m\n\u001b[32m     29\u001b[39m response\n\u001b[32m     30\u001b[39m \u001b[38;5;66;03m#display(Markdown(response['output'])) #display a nicely formatted answer for successful generations\u001b[39;00m\n",
      "\u001b[36mFile \u001b[39m\u001b[32m~\\tableau-ai-env\\Lib\\site-packages\\langchain\\chains\\base.py:167\u001b[39m, in \u001b[36mChain.invoke\u001b[39m\u001b[34m(self, input, config, **kwargs)\u001b[39m\n\u001b[32m    165\u001b[39m \u001b[38;5;28;01mexcept\u001b[39;00m \u001b[38;5;167;01mBaseException\u001b[39;00m \u001b[38;5;28;01mas\u001b[39;00m e:\n\u001b[32m    166\u001b[39m     run_manager.on_chain_error(e)\n\u001b[32m--> \u001b[39m\u001b[32m167\u001b[39m     \u001b[38;5;28;01mraise\u001b[39;00m e\n\u001b[32m    168\u001b[39m run_manager.on_chain_end(outputs)\n\u001b[32m    170\u001b[39m \u001b[38;5;28;01mif\u001b[39;00m include_run_info:\n",
      "\u001b[36mFile \u001b[39m\u001b[32m~\\tableau-ai-env\\Lib\\site-packages\\langchain\\chains\\base.py:157\u001b[39m, in \u001b[36mChain.invoke\u001b[39m\u001b[34m(self, input, config, **kwargs)\u001b[39m\n\u001b[32m    154\u001b[39m \u001b[38;5;28;01mtry\u001b[39;00m:\n\u001b[32m    155\u001b[39m     \u001b[38;5;28mself\u001b[39m._validate_inputs(inputs)\n\u001b[32m    156\u001b[39m     outputs = (\n\u001b[32m--> \u001b[39m\u001b[32m157\u001b[39m         \u001b[38;5;28;43mself\u001b[39;49m\u001b[43m.\u001b[49m\u001b[43m_call\u001b[49m\u001b[43m(\u001b[49m\u001b[43minputs\u001b[49m\u001b[43m,\u001b[49m\u001b[43m \u001b[49m\u001b[43mrun_manager\u001b[49m\u001b[43m=\u001b[49m\u001b[43mrun_manager\u001b[49m\u001b[43m)\u001b[49m\n\u001b[32m    158\u001b[39m         \u001b[38;5;28;01mif\u001b[39;00m new_arg_supported\n\u001b[32m    159\u001b[39m         \u001b[38;5;28;01melse\u001b[39;00m \u001b[38;5;28mself\u001b[39m._call(inputs)\n\u001b[32m    160\u001b[39m     )\n\u001b[32m    162\u001b[39m     final_outputs: \u001b[38;5;28mdict\u001b[39m[\u001b[38;5;28mstr\u001b[39m, Any] = \u001b[38;5;28mself\u001b[39m.prep_outputs(\n\u001b[32m    163\u001b[39m         inputs, outputs, return_only_outputs\n\u001b[32m    164\u001b[39m     )\n\u001b[32m    165\u001b[39m \u001b[38;5;28;01mexcept\u001b[39;00m \u001b[38;5;167;01mBaseException\u001b[39;00m \u001b[38;5;28;01mas\u001b[39;00m e:\n",
      "\u001b[36mFile \u001b[39m\u001b[32m~\\tableau-ai-env\\Lib\\site-packages\\langchain\\agents\\agent.py:1620\u001b[39m, in \u001b[36mAgentExecutor._call\u001b[39m\u001b[34m(self, inputs, run_manager)\u001b[39m\n\u001b[32m   1618\u001b[39m \u001b[38;5;66;03m# We now enter the agent loop (until it returns something).\u001b[39;00m\n\u001b[32m   1619\u001b[39m \u001b[38;5;28;01mwhile\u001b[39;00m \u001b[38;5;28mself\u001b[39m._should_continue(iterations, time_elapsed):\n\u001b[32m-> \u001b[39m\u001b[32m1620\u001b[39m     next_step_output = \u001b[38;5;28;43mself\u001b[39;49m\u001b[43m.\u001b[49m\u001b[43m_take_next_step\u001b[49m\u001b[43m(\u001b[49m\n\u001b[32m   1621\u001b[39m \u001b[43m        \u001b[49m\u001b[43mname_to_tool_map\u001b[49m\u001b[43m,\u001b[49m\n\u001b[32m   1622\u001b[39m \u001b[43m        \u001b[49m\u001b[43mcolor_mapping\u001b[49m\u001b[43m,\u001b[49m\n\u001b[32m   1623\u001b[39m \u001b[43m        \u001b[49m\u001b[43minputs\u001b[49m\u001b[43m,\u001b[49m\n\u001b[32m   1624\u001b[39m \u001b[43m        \u001b[49m\u001b[43mintermediate_steps\u001b[49m\u001b[43m,\u001b[49m\n\u001b[32m   1625\u001b[39m \u001b[43m        \u001b[49m\u001b[43mrun_manager\u001b[49m\u001b[43m=\u001b[49m\u001b[43mrun_manager\u001b[49m\u001b[43m,\u001b[49m\n\u001b[32m   1626\u001b[39m \u001b[43m    \u001b[49m\u001b[43m)\u001b[49m\n\u001b[32m   1627\u001b[39m     \u001b[38;5;28;01mif\u001b[39;00m \u001b[38;5;28misinstance\u001b[39m(next_step_output, AgentFinish):\n\u001b[32m   1628\u001b[39m         \u001b[38;5;28;01mreturn\u001b[39;00m \u001b[38;5;28mself\u001b[39m._return(\n\u001b[32m   1629\u001b[39m             next_step_output, intermediate_steps, run_manager=run_manager\n\u001b[32m   1630\u001b[39m         )\n",
      "\u001b[36mFile \u001b[39m\u001b[32m~\\tableau-ai-env\\Lib\\site-packages\\langchain\\agents\\agent.py:1328\u001b[39m, in \u001b[36mAgentExecutor._take_next_step\u001b[39m\u001b[34m(self, name_to_tool_map, color_mapping, inputs, intermediate_steps, run_manager)\u001b[39m\n\u001b[32m   1317\u001b[39m \u001b[38;5;28;01mdef\u001b[39;00m\u001b[38;5;250m \u001b[39m\u001b[34m_take_next_step\u001b[39m(\n\u001b[32m   1318\u001b[39m     \u001b[38;5;28mself\u001b[39m,\n\u001b[32m   1319\u001b[39m     name_to_tool_map: \u001b[38;5;28mdict\u001b[39m[\u001b[38;5;28mstr\u001b[39m, BaseTool],\n\u001b[32m   (...)\u001b[39m\u001b[32m   1323\u001b[39m     run_manager: Optional[CallbackManagerForChainRun] = \u001b[38;5;28;01mNone\u001b[39;00m,\n\u001b[32m   1324\u001b[39m ) -> Union[AgentFinish, \u001b[38;5;28mlist\u001b[39m[\u001b[38;5;28mtuple\u001b[39m[AgentAction, \u001b[38;5;28mstr\u001b[39m]]]:\n\u001b[32m   1325\u001b[39m     \u001b[38;5;28;01mreturn\u001b[39;00m \u001b[38;5;28mself\u001b[39m._consume_next_step(\n\u001b[32m   1326\u001b[39m         \u001b[43m[\u001b[49m\n\u001b[32m   1327\u001b[39m \u001b[43m            \u001b[49m\u001b[43ma\u001b[49m\n\u001b[32m-> \u001b[39m\u001b[32m1328\u001b[39m \u001b[43m            \u001b[49m\u001b[38;5;28;43;01mfor\u001b[39;49;00m\u001b[43m \u001b[49m\u001b[43ma\u001b[49m\u001b[43m \u001b[49m\u001b[38;5;129;43;01min\u001b[39;49;00m\u001b[43m \u001b[49m\u001b[38;5;28;43mself\u001b[39;49m\u001b[43m.\u001b[49m\u001b[43m_iter_next_step\u001b[49m\u001b[43m(\u001b[49m\n\u001b[32m   1329\u001b[39m \u001b[43m                \u001b[49m\u001b[43mname_to_tool_map\u001b[49m\u001b[43m,\u001b[49m\n\u001b[32m   1330\u001b[39m \u001b[43m                \u001b[49m\u001b[43mcolor_mapping\u001b[49m\u001b[43m,\u001b[49m\n\u001b[32m   1331\u001b[39m \u001b[43m                \u001b[49m\u001b[43minputs\u001b[49m\u001b[43m,\u001b[49m\n\u001b[32m   1332\u001b[39m \u001b[43m                \u001b[49m\u001b[43mintermediate_steps\u001b[49m\u001b[43m,\u001b[49m\n\u001b[32m   1333\u001b[39m \u001b[43m                \u001b[49m\u001b[43mrun_manager\u001b[49m\u001b[43m,\u001b[49m\n\u001b[32m   1334\u001b[39m \u001b[43m            \u001b[49m\u001b[43m)\u001b[49m\n\u001b[32m   1335\u001b[39m \u001b[43m        \u001b[49m\u001b[43m]\u001b[49m\n\u001b[32m   1336\u001b[39m     )\n",
      "\u001b[36mFile \u001b[39m\u001b[32m~\\tableau-ai-env\\Lib\\site-packages\\langchain\\agents\\agent.py:1411\u001b[39m, in \u001b[36mAgentExecutor._iter_next_step\u001b[39m\u001b[34m(self, name_to_tool_map, color_mapping, inputs, intermediate_steps, run_manager)\u001b[39m\n\u001b[32m   1409\u001b[39m     \u001b[38;5;28;01myield\u001b[39;00m agent_action\n\u001b[32m   1410\u001b[39m \u001b[38;5;28;01mfor\u001b[39;00m agent_action \u001b[38;5;129;01min\u001b[39;00m actions:\n\u001b[32m-> \u001b[39m\u001b[32m1411\u001b[39m     \u001b[38;5;28;01myield\u001b[39;00m \u001b[38;5;28;43mself\u001b[39;49m\u001b[43m.\u001b[49m\u001b[43m_perform_agent_action\u001b[49m\u001b[43m(\u001b[49m\n\u001b[32m   1412\u001b[39m \u001b[43m        \u001b[49m\u001b[43mname_to_tool_map\u001b[49m\u001b[43m,\u001b[49m\u001b[43m \u001b[49m\u001b[43mcolor_mapping\u001b[49m\u001b[43m,\u001b[49m\u001b[43m \u001b[49m\u001b[43magent_action\u001b[49m\u001b[43m,\u001b[49m\u001b[43m \u001b[49m\u001b[43mrun_manager\u001b[49m\n\u001b[32m   1413\u001b[39m \u001b[43m    \u001b[49m\u001b[43m)\u001b[49m\n",
      "\u001b[36mFile \u001b[39m\u001b[32m~\\tableau-ai-env\\Lib\\site-packages\\langchain\\agents\\agent.py:1433\u001b[39m, in \u001b[36mAgentExecutor._perform_agent_action\u001b[39m\u001b[34m(self, name_to_tool_map, color_mapping, agent_action, run_manager)\u001b[39m\n\u001b[32m   1431\u001b[39m         tool_run_kwargs[\u001b[33m\"\u001b[39m\u001b[33mllm_prefix\u001b[39m\u001b[33m\"\u001b[39m] = \u001b[33m\"\u001b[39m\u001b[33m\"\u001b[39m\n\u001b[32m   1432\u001b[39m     \u001b[38;5;66;03m# We then call the tool on the tool input to get an observation\u001b[39;00m\n\u001b[32m-> \u001b[39m\u001b[32m1433\u001b[39m     observation = \u001b[43mtool\u001b[49m\u001b[43m.\u001b[49m\u001b[43mrun\u001b[49m\u001b[43m(\u001b[49m\n\u001b[32m   1434\u001b[39m \u001b[43m        \u001b[49m\u001b[43magent_action\u001b[49m\u001b[43m.\u001b[49m\u001b[43mtool_input\u001b[49m\u001b[43m,\u001b[49m\n\u001b[32m   1435\u001b[39m \u001b[43m        \u001b[49m\u001b[43mverbose\u001b[49m\u001b[43m=\u001b[49m\u001b[38;5;28;43mself\u001b[39;49m\u001b[43m.\u001b[49m\u001b[43mverbose\u001b[49m\u001b[43m,\u001b[49m\n\u001b[32m   1436\u001b[39m \u001b[43m        \u001b[49m\u001b[43mcolor\u001b[49m\u001b[43m=\u001b[49m\u001b[43mcolor\u001b[49m\u001b[43m,\u001b[49m\n\u001b[32m   1437\u001b[39m \u001b[43m        \u001b[49m\u001b[43mcallbacks\u001b[49m\u001b[43m=\u001b[49m\u001b[43mrun_manager\u001b[49m\u001b[43m.\u001b[49m\u001b[43mget_child\u001b[49m\u001b[43m(\u001b[49m\u001b[43m)\u001b[49m\u001b[43m \u001b[49m\u001b[38;5;28;43;01mif\u001b[39;49;00m\u001b[43m \u001b[49m\u001b[43mrun_manager\u001b[49m\u001b[43m \u001b[49m\u001b[38;5;28;43;01melse\u001b[39;49;00m\u001b[43m \u001b[49m\u001b[38;5;28;43;01mNone\u001b[39;49;00m\u001b[43m,\u001b[49m\n\u001b[32m   1438\u001b[39m \u001b[43m        \u001b[49m\u001b[43m*\u001b[49m\u001b[43m*\u001b[49m\u001b[43mtool_run_kwargs\u001b[49m\u001b[43m,\u001b[49m\n\u001b[32m   1439\u001b[39m \u001b[43m    \u001b[49m\u001b[43m)\u001b[49m\n\u001b[32m   1440\u001b[39m \u001b[38;5;28;01melse\u001b[39;00m:\n\u001b[32m   1441\u001b[39m     tool_run_kwargs = \u001b[38;5;28mself\u001b[39m._action_agent.tool_run_logging_kwargs()\n",
      "\u001b[36mFile \u001b[39m\u001b[32m~\\tableau-ai-env\\Lib\\site-packages\\langchain_core\\tools\\base.py:774\u001b[39m, in \u001b[36mBaseTool.run\u001b[39m\u001b[34m(self, tool_input, verbose, start_color, color, callbacks, tags, metadata, run_name, run_id, config, tool_call_id, **kwargs)\u001b[39m\n\u001b[32m    772\u001b[39m \u001b[38;5;28;01mif\u001b[39;00m error_to_raise:\n\u001b[32m    773\u001b[39m     run_manager.on_tool_error(error_to_raise)\n\u001b[32m--> \u001b[39m\u001b[32m774\u001b[39m     \u001b[38;5;28;01mraise\u001b[39;00m error_to_raise\n\u001b[32m    775\u001b[39m output = _format_output(content, artifact, tool_call_id, \u001b[38;5;28mself\u001b[39m.name, status)\n\u001b[32m    776\u001b[39m run_manager.on_tool_end(output, color=color, name=\u001b[38;5;28mself\u001b[39m.name, **kwargs)\n",
      "\u001b[36mFile \u001b[39m\u001b[32m~\\tableau-ai-env\\Lib\\site-packages\\langchain_core\\tools\\base.py:743\u001b[39m, in \u001b[36mBaseTool.run\u001b[39m\u001b[34m(self, tool_input, verbose, start_color, color, callbacks, tags, metadata, run_name, run_id, config, tool_call_id, **kwargs)\u001b[39m\n\u001b[32m    741\u001b[39m     \u001b[38;5;28;01mif\u001b[39;00m config_param := _get_runnable_config_param(\u001b[38;5;28mself\u001b[39m._run):\n\u001b[32m    742\u001b[39m         tool_kwargs = tool_kwargs | {config_param: config}\n\u001b[32m--> \u001b[39m\u001b[32m743\u001b[39m     response = \u001b[43mcontext\u001b[49m\u001b[43m.\u001b[49m\u001b[43mrun\u001b[49m\u001b[43m(\u001b[49m\u001b[38;5;28;43mself\u001b[39;49m\u001b[43m.\u001b[49m\u001b[43m_run\u001b[49m\u001b[43m,\u001b[49m\u001b[43m \u001b[49m\u001b[43m*\u001b[49m\u001b[43mtool_args\u001b[49m\u001b[43m,\u001b[49m\u001b[43m \u001b[49m\u001b[43m*\u001b[49m\u001b[43m*\u001b[49m\u001b[43mtool_kwargs\u001b[49m\u001b[43m)\u001b[49m\n\u001b[32m    744\u001b[39m \u001b[38;5;28;01mif\u001b[39;00m \u001b[38;5;28mself\u001b[39m.response_format == \u001b[33m\"\u001b[39m\u001b[33mcontent_and_artifact\u001b[39m\u001b[33m\"\u001b[39m:\n\u001b[32m    745\u001b[39m     \u001b[38;5;28;01mif\u001b[39;00m \u001b[38;5;129;01mnot\u001b[39;00m \u001b[38;5;28misinstance\u001b[39m(response, \u001b[38;5;28mtuple\u001b[39m) \u001b[38;5;129;01mor\u001b[39;00m \u001b[38;5;28mlen\u001b[39m(response) != \u001b[32m2\u001b[39m:\n",
      "\u001b[36mFile \u001b[39m\u001b[32m~\\tableau-ai-env\\Lib\\site-packages\\langchain_core\\tools\\structured.py:93\u001b[39m, in \u001b[36mStructuredTool._run\u001b[39m\u001b[34m(self, config, run_manager, *args, **kwargs)\u001b[39m\n\u001b[32m     91\u001b[39m     \u001b[38;5;28;01mif\u001b[39;00m config_param := _get_runnable_config_param(\u001b[38;5;28mself\u001b[39m.func):\n\u001b[32m     92\u001b[39m         kwargs[config_param] = config\n\u001b[32m---> \u001b[39m\u001b[32m93\u001b[39m     \u001b[38;5;28;01mreturn\u001b[39;00m \u001b[38;5;28;43mself\u001b[39;49m\u001b[43m.\u001b[49m\u001b[43mfunc\u001b[49m\u001b[43m(\u001b[49m\u001b[43m*\u001b[49m\u001b[43margs\u001b[49m\u001b[43m,\u001b[49m\u001b[43m \u001b[49m\u001b[43m*\u001b[49m\u001b[43m*\u001b[49m\u001b[43mkwargs\u001b[49m\u001b[43m)\u001b[49m\n\u001b[32m     94\u001b[39m msg = \u001b[33m\"\u001b[39m\u001b[33mStructuredTool does not support sync invocation.\u001b[39m\u001b[33m\"\u001b[39m\n\u001b[32m     95\u001b[39m \u001b[38;5;28;01mraise\u001b[39;00m \u001b[38;5;167;01mNotImplementedError\u001b[39;00m(msg)\n",
      "\u001b[36mFile \u001b[39m\u001b[32m~\\tableau-ai-env\\Lib\\site-packages\\langchain_tableau\\tools\\simple_datasource_qa.py:163\u001b[39m, in \u001b[36minitialize_simple_datasource_qa.<locals>.simple_datasource_qa\u001b[39m\u001b[34m(user_input, previous_call_error, previous_vds_payload)\u001b[39m\n\u001b[32m    160\u001b[39m tableau_datasource = env_vars[\u001b[33m\"\u001b[39m\u001b[33mdatasource_luid\u001b[39m\u001b[33m\"\u001b[39m]\n\u001b[32m    162\u001b[39m \u001b[38;5;66;03m# 0. Obtain metadata about the data source to enhance the query writing prompt\u001b[39;00m\n\u001b[32m--> \u001b[39m\u001b[32m163\u001b[39m query_writing_data = \u001b[43maugment_datasource_metadata\u001b[49m\u001b[43m(\u001b[49m\n\u001b[32m    164\u001b[39m \u001b[43m    \u001b[49m\u001b[43mtask\u001b[49m\u001b[43m \u001b[49m\u001b[43m=\u001b[49m\u001b[43m \u001b[49m\u001b[43muser_input\u001b[49m\u001b[43m,\u001b[49m\n\u001b[32m    165\u001b[39m \u001b[43m    \u001b[49m\u001b[43mapi_key\u001b[49m\u001b[43m \u001b[49m\u001b[43m=\u001b[49m\u001b[43m \u001b[49m\u001b[43mtableau_auth\u001b[49m\u001b[43m,\u001b[49m\n\u001b[32m    166\u001b[39m \u001b[43m    \u001b[49m\u001b[43murl\u001b[49m\u001b[43m \u001b[49m\u001b[43m=\u001b[49m\u001b[43m \u001b[49m\u001b[43mdomain\u001b[49m\u001b[43m,\u001b[49m\n\u001b[32m    167\u001b[39m \u001b[43m    \u001b[49m\u001b[43mdatasource_luid\u001b[49m\u001b[43m \u001b[49m\u001b[43m=\u001b[49m\u001b[43m \u001b[49m\u001b[43mtableau_datasource\u001b[49m\u001b[43m,\u001b[49m\n\u001b[32m    168\u001b[39m \u001b[43m    \u001b[49m\u001b[43mprompt\u001b[49m\u001b[43m \u001b[49m\u001b[43m=\u001b[49m\u001b[43m \u001b[49m\u001b[43mvds_prompt_data\u001b[49m\u001b[43m,\u001b[49m\n\u001b[32m    169\u001b[39m \u001b[43m    \u001b[49m\u001b[43mprevious_errors\u001b[49m\u001b[43m \u001b[49m\u001b[43m=\u001b[49m\u001b[43m \u001b[49m\u001b[43mprevious_call_error\u001b[49m\u001b[43m,\u001b[49m\n\u001b[32m    170\u001b[39m \u001b[43m    \u001b[49m\u001b[43mprevious_vds_payload\u001b[49m\u001b[43m \u001b[49m\u001b[43m=\u001b[49m\u001b[43m \u001b[49m\u001b[43mprevious_vds_payload\u001b[49m\n\u001b[32m    171\u001b[39m \u001b[43m\u001b[49m\u001b[43m)\u001b[49m\n\u001b[32m    173\u001b[39m \u001b[38;5;66;03m# 1. Insert instruction data into the template\u001b[39;00m\n\u001b[32m    174\u001b[39m query_writing_prompt = PromptTemplate(\n\u001b[32m    175\u001b[39m     input_variables=[\n\u001b[32m    176\u001b[39m         \u001b[33m\"\u001b[39m\u001b[33mtask\u001b[39m\u001b[33m\"\u001b[39m\n\u001b[32m   (...)\u001b[39m\u001b[32m    186\u001b[39m     template=vds_query\n\u001b[32m    187\u001b[39m )\n",
      "\u001b[36mFile \u001b[39m\u001b[32m~\\tableau-ai-env\\Lib\\site-packages\\langchain_tableau\\utilities\\simple_datasource_qa.py:110\u001b[39m, in \u001b[36maugment_datasource_metadata\u001b[39m\u001b[34m(task, api_key, url, datasource_luid, prompt, previous_errors, previous_vds_payload)\u001b[39m\n\u001b[32m    107\u001b[39m prompt[\u001b[33m'\u001b[39m\u001b[33mtask\u001b[39m\u001b[33m'\u001b[39m] = task\n\u001b[32m    109\u001b[39m \u001b[38;5;66;03m# get dictionary for the data source from the Metadata API\u001b[39;00m\n\u001b[32m--> \u001b[39m\u001b[32m110\u001b[39m data_dictionary = \u001b[43mget_data_dictionary\u001b[49m\u001b[43m(\u001b[49m\n\u001b[32m    111\u001b[39m \u001b[43m    \u001b[49m\u001b[43mapi_key\u001b[49m\u001b[43m=\u001b[49m\u001b[43mapi_key\u001b[49m\u001b[43m,\u001b[49m\n\u001b[32m    112\u001b[39m \u001b[43m    \u001b[49m\u001b[43mdomain\u001b[49m\u001b[43m=\u001b[49m\u001b[43murl\u001b[49m\u001b[43m,\u001b[49m\n\u001b[32m    113\u001b[39m \u001b[43m    \u001b[49m\u001b[43mdatasource_luid\u001b[49m\u001b[43m=\u001b[49m\u001b[43mdatasource_luid\u001b[49m\n\u001b[32m    114\u001b[39m \u001b[43m\u001b[49m\u001b[43m)\u001b[49m\n\u001b[32m    116\u001b[39m \u001b[38;5;66;03m# insert data dictionary from Tableau's Data Catalog\u001b[39;00m\n\u001b[32m    117\u001b[39m prompt[\u001b[33m'\u001b[39m\u001b[33mdata_dictionary\u001b[39m\u001b[33m'\u001b[39m] = data_dictionary[\u001b[33m'\u001b[39m\u001b[33mdatasource_fields\u001b[39m\u001b[33m'\u001b[39m]\n",
      "\u001b[36mFile \u001b[39m\u001b[32m~\\tableau-ai-env\\Lib\\site-packages\\langchain_tableau\\utilities\\metadata.py:76\u001b[39m, in \u001b[36mget_data_dictionary\u001b[39m\u001b[34m(api_key, domain, datasource_luid)\u001b[39m\n\u001b[32m     73\u001b[39m response = requests.post(full_url, headers=headers, data=payload)\n\u001b[32m     74\u001b[39m response.raise_for_status()  \u001b[38;5;66;03m# Raise an exception for bad status codes\u001b[39;00m\n\u001b[32m---> \u001b[39m\u001b[32m76\u001b[39m json_data = \u001b[43mresponse\u001b[49m\u001b[43m.\u001b[49m\u001b[43mjson\u001b[49m\u001b[43m(\u001b[49m\u001b[43m)\u001b[49m\u001b[43m[\u001b[49m\u001b[33;43m'\u001b[39;49m\u001b[33;43mdata\u001b[39;49m\u001b[33;43m'\u001b[39;49m\u001b[43m]\u001b[49m\u001b[43m[\u001b[49m\u001b[33;43m'\u001b[39;49m\u001b[33;43mpublishedDatasources\u001b[39;49m\u001b[33;43m'\u001b[39;49m\u001b[43m]\u001b[49m\u001b[43m[\u001b[49m\u001b[32;43m0\u001b[39;49m\u001b[43m]\u001b[49m\n\u001b[32m     78\u001b[39m name = json_data.get(\u001b[33m'\u001b[39m\u001b[33mname\u001b[39m\u001b[33m'\u001b[39m)\n\u001b[32m     79\u001b[39m description = json_data.get(\u001b[33m'\u001b[39m\u001b[33mdescription\u001b[39m\u001b[33m'\u001b[39m)\n",
      "\u001b[31mIndexError\u001b[39m: list index out of range"
     ]
    }
   ],
   "source": [
    "from IPython.display import display, Markdown\n",
    "\n",
    "# Initialize an LLM \n",
    "llm = ChatOpenAI(model='gpt-3.5-turbo', temperature=0)\n",
    "\n",
    "# Initalize simple_datasource_qa for querying Tableau Datasources through VDS\n",
    "analyze_datasource = initialize_simple_datasource_qa(\n",
    "    domain=tableau_server,\n",
    "    site=tableau_site,\n",
    "    jwt_client_id=tableau_jwt_client_id,\n",
    "    jwt_secret_id=tableau_jwt_secret_id,\n",
    "    jwt_secret=tableau_jwt_secret,\n",
    "    tableau_api_version=tableau_api_version,\n",
    "    tableau_user=tableau_user,\n",
    "    datasource_luid=datasource_luid,\n",
    "    tooling_llm_model=tooling_llm_model)\n",
    "\n",
    "# load the List of Tools to be used by the Agent. In this case we will just load our data source Q&A tool.\n",
    "tools = [ analyze_datasource ]\n",
    "\n",
    "tableauHeadlessAgent = initialize_agent(\n",
    "    tools,\n",
    "    llm,\n",
    "    agent=AgentType.OPENAI_FUNCTIONS, # Use OpenAI's function calling\n",
    "    verbose = False)\n",
    "\n",
    "# Run the agent\n",
    "response = tableauHeadlessAgent.invoke(\"what are sales and profits for each product sub category?\")\n",
    "response\n",
    "#display(Markdown(response['output'])) #display a nicely formatted answer for successful generations"
   ]
  },
  {
   "cell_type": "markdown",
   "id": "0ac5daa0-4336-48d0-9c26-20bf2c252bad",
   "metadata": {},
   "source": [
    "## Langgraph Example\n",
    "This example uses the updated langgraph agent constructor class to achieve the same outcome. "
   ]
  },
  {
   "cell_type": "code",
   "execution_count": null,
   "id": "06a1d3f7-79a8-452e-b37e-9070d15445b0",
   "metadata": {},
   "outputs": [],
   "source": [
    "from IPython.display import display, Markdown\n",
    "\n",
    "# Initalize simple_datasource_qa for querying Tableau Datasources through VDS\n",
    "analyze_datasource = initialize_simple_datasource_qa(\n",
    "    domain=tableau_server,\n",
    "    site=tableau_site,\n",
    "    jwt_client_id=tableau_jwt_client_id,\n",
    "    jwt_secret_id=tableau_jwt_secret_id,\n",
    "    jwt_secret=tableau_jwt_secret,\n",
    "    tableau_api_version=tableau_api_version,\n",
    "    tableau_user=tableau_user,\n",
    "    datasource_luid=datasource_luid,\n",
    "    tooling_llm_model=tooling_llm_model)\n",
    "\n",
    "tools = [analyze_datasource]\n",
    "\n",
    "model = ChatOpenAI(model='gpt-4o-mini', temperature=0)\n",
    "\n",
    "tableauAgent = create_react_agent(model, tools)\n",
    "\n",
    "# Run the agent\n",
    "messages = tableauAgent.invoke({\"messages\": [(\"human\",'which states sell the most? Are those the same states with the most profits?')]})\n",
    "#messages\n",
    "display(Markdown(messages['messages'][4].content)) #display a nicely formatted answer for successful generations"
   ]
  }
 ],
 "metadata": {
  "kernelspec": {
   "display_name": "Python 3 (ipykernel)",
   "language": "python",
   "name": "python3"
  },
  "language_info": {
   "codemirror_mode": {
    "name": "ipython",
    "version": 3
   },
   "file_extension": ".py",
   "mimetype": "text/x-python",
   "name": "python",
   "nbconvert_exporter": "python",
   "pygments_lexer": "ipython3",
   "version": "3.12.7"
  }
 },
 "nbformat": 4,
 "nbformat_minor": 5
}
